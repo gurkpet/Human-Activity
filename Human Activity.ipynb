{
 "cells": [
  {
   "cell_type": "code",
   "execution_count": 1,
   "metadata": {},
   "outputs": [],
   "source": [
    "import pandas as pd\n",
    "import numpy as np\n",
    "from sklearn import ensemble\n",
    "import matplotlib.pyplot as plt\n",
    "from sklearn.metrics import accuracy_score, classification_report, confusion_matrix"
   ]
  },
  {
   "cell_type": "code",
   "execution_count": 2,
   "metadata": {},
   "outputs": [],
   "source": [
    "X_train = pd.read_table('train/X_train.txt', delim_whitespace=True, header = None)\n",
    "Y_train = pd.read_table('train/y_train.txt', delim_whitespace=True, header = None)\n",
    "X_test = pd.read_table('test/X_test.txt', delim_whitespace=True, header = None)\n",
    "Y_test = pd.read_table('test/y_test.txt', delim_whitespace=True, header = None)"
   ]
  },
  {
   "cell_type": "code",
   "execution_count": 14,
   "metadata": {},
   "outputs": [
    {
     "data": {
      "text/plain": [
       "(7352, 561)"
      ]
     },
     "execution_count": 14,
     "metadata": {},
     "output_type": "execute_result"
    }
   ],
   "source": [
    "X_train.shape"
   ]
  },
  {
   "cell_type": "code",
   "execution_count": 3,
   "metadata": {},
   "outputs": [
    {
     "data": {
      "text/plain": [
       "array([1, 2, 3, 4, 5, 6])"
      ]
     },
     "execution_count": 3,
     "metadata": {},
     "output_type": "execute_result"
    }
   ],
   "source": [
    "np.sort(Y_train[0].unique())"
   ]
  },
  {
   "cell_type": "code",
   "execution_count": 4,
   "metadata": {},
   "outputs": [],
   "source": [
    "rfc = ensemble.RandomForestClassifier()"
   ]
  },
  {
   "cell_type": "code",
   "execution_count": 5,
   "metadata": {},
   "outputs": [
    {
     "data": {
      "image/png": "[encoded data removed]",
      "text/plain": [
       "<matplotlib.figure.Figure at 0x7f4098ac3dd8>"
      ]
     },
     "metadata": {},
     "output_type": "display_data"
    },
    {
     "data": {
      "text/plain": [
       "6    1407\n",
       "5    1374\n",
       "4    1286\n",
       "1    1226\n",
       "2    1073\n",
       "3     986\n",
       "Name: 0, dtype: int64"
      ]
     },
     "execution_count": 5,
     "metadata": {},
     "output_type": "execute_result"
    }
   ],
   "source": [
    "plt.hist(Y_train[0])\n",
    "plt.show()\n",
    "Y_train[0].value_counts()"
   ]
  },
  {
   "cell_type": "code",
   "execution_count": 6,
   "metadata": {},
   "outputs": [],
   "source": [
    "class1index = Y_train[Y_train[0] == 1].sample(986).index.tolist()\n",
    "class2index = Y_train[Y_train[0] == 2].sample(986).index.tolist()\n",
    "class3index = Y_train[Y_train[0] == 3].sample(986).index.tolist()\n",
    "class4index = Y_train[Y_train[0] == 4].sample(986).index.tolist()\n",
    "class5index = Y_train[Y_train[0] == 5].sample(986).index.tolist()\n",
    "class6index = Y_train[Y_train[0] == 6].sample(986).index.tolist()"
   ]
  },
  {
   "cell_type": "code",
   "execution_count": 7,
   "metadata": {},
   "outputs": [],
   "source": [
    "class1index.extend(class2index)\n",
    "class1index.extend(class3index)\n",
    "class1index.extend(class4index)\n",
    "class1index.extend(class5index)\n",
    "class1index.extend(class6index)"
   ]
  },
  {
   "cell_type": "code",
   "execution_count": 8,
   "metadata": {},
   "outputs": [],
   "source": [
    "balaced_X_train = X_train.iloc[class1index]\n",
    "balaced_Y_train = Y_train.iloc[class1index]"
   ]
  },
  {
   "cell_type": "code",
   "execution_count": 9,
   "metadata": {},
   "outputs": [
    {
     "data": {
      "text/plain": [
       "0.90736342042755347"
      ]
     },
     "execution_count": 9,
     "metadata": {},
     "output_type": "execute_result"
    }
   ],
   "source": [
    "rfc.fit(balaced_X_train, balaced_Y_train[0])\n",
    "Y_ = rfc.predict(X_test)\n",
    "accuracy_score(Y_test, Y_)"
   ]
  },
  {
   "cell_type": "code",
   "execution_count": 10,
   "metadata": {},
   "outputs": [
    {
     "name": "stdout",
     "output_type": "stream",
     "text": [
      "             precision    recall  f1-score   support\n",
      "\n",
      "          1       0.87      0.96      0.91       496\n",
      "          2       0.87      0.87      0.87       471\n",
      "          3       0.92      0.82      0.87       420\n",
      "          4       0.87      0.90      0.89       491\n",
      "          5       0.91      0.88      0.89       532\n",
      "          6       1.00      1.00      1.00       537\n",
      "\n",
      "avg / total       0.91      0.91      0.91      2947\n",
      "\n"
     ]
    }
   ],
   "source": [
    "print(classification_report(Y_test, Y_))"
   ]
  },
  {
   "cell_type": "code",
   "execution_count": 11,
   "metadata": {},
   "outputs": [
    {
     "data": {
      "text/plain": [
       "array([[475,   8,  13,   0,   0,   0],\n",
       "       [ 45, 410,  16,   0,   0,   0],\n",
       "       [ 24,  52, 344,   0,   0,   0],\n",
       "       [  0,   0,   0, 443,  48,   0],\n",
       "       [  0,   0,   0,  66, 466,   0],\n",
       "       [  0,   0,   0,   1,   0, 536]])"
      ]
     },
     "execution_count": 11,
     "metadata": {},
     "output_type": "execute_result"
    }
   ],
   "source": [
    "confusion_matrix(Y_test, Y_)"
   ]
  },
  {
   "cell_type": "code",
   "execution_count": null,
   "metadata": {
    "collapsed": true
   },
   "outputs": [],
   "source": []
  }
 ],
 "metadata": {
  "kernelspec": {
   "display_name": "Python [conda root]",
   "language": "python",
   "name": "conda-root-py"
  },
  "language_info": {
   "codemirror_mode": {
    "name": "ipython",
    "version": 3
   },
   "file_extension": ".py",
   "mimetype": "text/x-python",
   "name": "python",
   "nbconvert_exporter": "python",
   "pygments_lexer": "ipython3",
   "version": "3.5.4"
  }
 },
 "nbformat": 4,
 "nbformat_minor": 2
}
